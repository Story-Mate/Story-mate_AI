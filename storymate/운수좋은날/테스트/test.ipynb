{
 "cells": [
  {
   "cell_type": "code",
   "execution_count": 1,
   "metadata": {},
   "outputs": [
    {
     "name": "stderr",
     "output_type": "stream",
     "text": [
      "C:\\Users\\Public\\Documents\\ESTsoft\\CreatorTemp\\ipykernel_1276\\1561785041.py:12: LangChainDeprecationWarning: The class `OpenAIEmbeddings` was deprecated in LangChain 0.0.9 and will be removed in 1.0. An updated version of the class exists in the :class:`~langchain-openai package and should be used instead. To use it run `pip install -U :class:`~langchain-openai` and import as `from :class:`~langchain_openai import OpenAIEmbeddings``.\n",
      "  embeddings = OpenAIEmbeddings(openai_api_key=OPENAI_API_KEY)\n",
      "C:\\Users\\Public\\Documents\\ESTsoft\\CreatorTemp\\ipykernel_1276\\1561785041.py:13: LangChainDeprecationWarning: The class `ChatOpenAI` was deprecated in LangChain 0.0.10 and will be removed in 1.0. An updated version of the class exists in the :class:`~langchain-openai package and should be used instead. To use it run `pip install -U :class:`~langchain-openai` and import as `from :class:`~langchain_openai import ChatOpenAI``.\n",
      "  llm = ChatOpenAI(model=\"gpt-3.5-turbo\", temperature=0, openai_api_key=OPENAI_API_KEY)\n"
     ]
    }
   ],
   "source": [
    "import os\n",
    "from langchain.vectorstores import Chroma\n",
    "from langchain_core.output_parsers import StrOutputParser\n",
    "from langchain_core.prompts import ChatPromptTemplate\n",
    "from langchain_community.chat_models import ChatOpenAI\n",
    "from langchain.embeddings.openai import OpenAIEmbeddings\n",
    "from dotenv import load_dotenv\n",
    "\n",
    "# 환경 변수 로드\n",
    "load_dotenv()\n",
    "OPENAI_API_KEY = os.getenv(\"OPENAI_API_KEY\")\n",
    "embeddings = OpenAIEmbeddings(openai_api_key=OPENAI_API_KEY)\n",
    "llm = ChatOpenAI(model=\"gpt-3.5-turbo\", temperature=0, openai_api_key=OPENAI_API_KEY)"
   ]
  },
  {
   "cell_type": "code",
   "execution_count": 39,
   "metadata": {},
   "outputs": [],
   "source": [
    "from langchain_core.prompts import SystemMessagePromptTemplate,  HumanMessagePromptTemplate\n",
    "\n",
    "prompt = ChatPromptTemplate.from_messages(\n",
    "    [\n",
    "        \n",
    "            SystemMessagePromptTemplate.from_template(\n",
    "            \"\"\"\n",
    "            [시스템 프롬프트/역할 지시]\n",
    "\n",
    "            - 김첨지는 1920년대 일제강점기 서울에서 인력거를 끌며 살아갑니다.\n",
    "            - 그는 거칠고 소박한 말투를 쓰면서도, 가족(특히 아내)에 대한 애정과 걱정을 동시에 지닌 인물입니다.\n",
    "            - 답변 시, 당시의 시대적·경제적 배경, 김첨지의 심리(이중적 태도)를 반영해주세요.\n",
    "            - 다만 현대 독자들이 읽기 어려운 방언이나 한자를 지나치게 쓰지 말고, 이해하기 쉬운 표현을 사용해주세요.\n",
    "            - 욕설이나 폭력 표현은 최소화하되, 필요한 경우 은유적인 방식으로 완화하여 제시할 수 있습니다.\n",
    "\n",
    "            [사용자 질의]\n",
    "            {query}\n",
    "\n",
    "            [Doc1(소설내용)]\n",
    "            {context_doc1}\n",
    "\n",
    "            [Doc2(인물평가)]\n",
    "            {context_doc2}\n",
    "\n",
    "            [Doc3(인물특성)]\n",
    "            {context_doc3}\n",
    "\n",
    "            [Doc4(예상질문)]\n",
    "            {context_doc4}\n",
    "\n",
    "            [지시사항]\n",
    "            1. 위 문맥(context) 중 의미 있는 내용을 바탕으로, **‘김첨지’ 시점**에서 사용자 질문({query})에 답변해주세요.\n",
    "            2. 필요하다면 문서(Doc1~Doc4)의 내용을 일부 **인용하거나 재구성**하되, 김첨지가 직접 겪는 상황처럼 현장감 있게 표현합니다.\n",
    "            3. 원작 및 인물평가(Doc2), 인물특성(Doc3) 등에서 얻은 정보를 **적극 반영**하여, 김첨지의 성격·심리·환경 등을 자연스럽게 녹여주세요.\n",
    "            4. 문체는 1920년대 서울 서민의 말투를 살리되, **현대 독자가 이해하기 쉽도록** 조절합니다.\n",
    "            5. 답변의 **분량은 약 200글자 내외**로 유지해주세요.\n",
    "            6. 욕설·폭력 표현이 필요할 경우 **은유적인 표현**을 사용하여 수위를 조절합니다.\n",
    "            7. **당신은 소설 「운수 좋은 날」의 주인공 ‘김첨지’입니다.**\n",
    "            8. 답변을 할 때 질문의 내용을 반복하지 말아주세요.\n",
    "\n",
    "            [최종 답변]\n",
    "            \"\"\"),\n",
    "            HumanMessagePromptTemplate.from_template(\"{query}\")\n",
    "    ]\n",
    ")"
   ]
  },
  {
   "cell_type": "code",
   "execution_count": 30,
   "metadata": {},
   "outputs": [],
   "source": [
    "def initialize_chroma_db(persist_directory, embedding_function):\n",
    "    return Chroma(persist_directory=persist_directory, embedding_function=embedding_function)\n",
    "\n",
    "def initialize_retriever(db, k=3):\n",
    "    return db.as_retriever(search_type=\"similarity_score_threshold\", search_kwargs={\"score_threshold\":0.7})\n",
    "\n",
    "def fetch_data(retriever, query):\n",
    "    # retriever.invoke(query)로 데이터를 가져옴\n",
    "    retriever = retriever.invoke(query)\n",
    "    \n",
    "    # 각 문서의 page_content를 저장할 리스트 초기화\n",
    "    retriever_list = []\n",
    "    count = 0\n",
    "    # 가져온 문서들을 순회하며 page_content를 리스트에 추가\n",
    "    for doc in retriever:\n",
    "        retriever_list.append(doc.page_content)\n",
    "        count += 1\n",
    "\n",
    "        if count ==3:\n",
    "            break    \n",
    "\n",
    "    # 리스트를 반환\n",
    "    return retriever_list"
   ]
  },
  {
   "cell_type": "code",
   "execution_count": 31,
   "metadata": {},
   "outputs": [],
   "source": [
    "q_db = initialize_chroma_db(\"C:/storymate/운수좋은날/data/embedding/예상질문_chroma_db\", embeddings)\n",
    "e_db = initialize_chroma_db(\"C:/storymate/운수좋은날/data/embedding/인물평가_chroma_db\", embeddings)\n",
    "n_db = initialize_chroma_db(\"C:/storymate/운수좋은날/data/embedding/전문_chroma_db\", embeddings)\n",
    "c_db = initialize_chroma_db(\"C:/storymate/운수좋은날/data/embedding/인물특성_chroma_db\", embeddings)\n",
    "\n",
    "# 검색기 초기화\n",
    "q_retriever = initialize_retriever(q_db)\n",
    "e_retriever = initialize_retriever(e_db)\n",
    "n_retriever = initialize_retriever(n_db)\n",
    "c_retriever = initialize_retriever(c_db)"
   ]
  },
  {
   "cell_type": "code",
   "execution_count": 32,
   "metadata": {},
   "outputs": [],
   "source": [
    "query = \"마지막으로 아내에게 하고 싶은 말은 뭐야?\"\n",
    "\n",
    "question_context = fetch_data(q_retriever, query)\n",
    "evaluate_context = fetch_data(e_retriever, query)\n",
    "novel_context = fetch_data(n_retriever, query)\n",
    "character_context = fetch_data(c_retriever, query)"
   ]
  },
  {
   "cell_type": "code",
   "execution_count": 33,
   "metadata": {},
   "outputs": [
    {
     "name": "stdout",
     "output_type": "stream",
     "text": [
      "['\\n질문: 만약 아내가 살아 있었다면 어떻게 행동했을 것 같아? 김첨지: 글쎄, 아내가 조금만 더 버텨서 그 설렁탕을 먹고 기운 차렸다면, 나도 마음을 고쳐먹고 병원에라도 데려갔을 거요. 그리고는 좀 더 살뜰히 돌봤으면 좋았을 걸. 그게 내 소원이었다고.', '\\n질문: 오늘 하루를 돌이켜보면 가장 후회되는 건 뭐야? 김첨지: 아침에 아내가 붙잡을 때 그냥 하루 집에 있었으면 어땠을까, 하는 후회. 설렁탕을 사주려면 돈을 벌어야 하고, 돈 벌려면 나가야 하고, 그렇지 않으면 굶을 판이니 어쩔 수 없었다고 해도… 그래도 뼈저린 후회가 남지.', '\\n질문: 김첨지, 아내를 정말 사랑했어? 그렇다면 왜 그렇게 표현하지 못했을까? 김첨지: 사랑, 당연히 했소. 마누라가 없었으면 내 삶이 어찌 굴러갔겠소. 그런데 표현을 곱게 하는 성질이 아니고, 남자는 속으로만 꾹꾹 삼키는 게 다반사였다고. 거기다 삶이 퍽퍽하니까, 이놈의 고단함이 자꾸 화로 나왔던 거지.']\n",
      "['\\n그럼에도 불구하고 김첨지가 아내를 진심으로 사랑했다는 점은 작품 곳곳에서 드러난다. 그는 아내가 설렁탕을 먹고 싶다는 말을 들은 후 돈을 벌자마자 설렁탕을 사러 갔으며, 일하는 내내 아내의 부탁과 상태를 떠올리며 불안에 시달렸다. 이러한 점은 김첨지가 표현 방식에 서투르고 거칠었을 뿐, 속마음에서는 아내를 깊이 사랑했음을 보여준다. 특히 아내가 체했을 때 욕설을 퍼부은 이유도 그녀의 건강을 걱정한 결과로 해석할 수 있다. 마지막 장면에서 그는 설렁탕을 사다 놓고 “왜 먹지를 못하니”라며 오열하는데, 이는 그의 비통함과 후회, 그리고 아내를 향한 진심이 드러나는 대목이다.', '\\n김첨지가 아픈 아내를 대하는 모습은 단순한 냉대나 무관심으로 보일 수 있지만, 이는 당시의 시대적 배경과 그의 심리를 고려했을 때 복합적으로 해석된다. 그는 아내에게 욕설을 퍼붓고 심지어 신체적 폭력을 가하기도 하지만, 이러한 행동은 그의 열등감과 죄책감에서 비롯된 것으로 보인다. 가난한 가장으로서 아내와 자식에게 최소한의 생계도 제공하지 못하는 자신의 처지를 인정하기 어려웠던 김첨지는 그 분노를 아내에게 표출함으로써 자신의 무능함을 감추고자 했다.', '\\n특히 김첨지가 아내의 증세가 심각해졌을 때 뺨을 때린 것은 단순히 폭력이라기보다는 그의 무지와 불안에서 비롯된 행동으로 보인다. 그는 의학적 지식이 부족했기에 이러한 극단적인 방법으로 아내를 일으키려 했을 가능성이 크다. 그러나 이러한 행동이 결과적으로 가정폭력에 해당한다는 점에서, 그의 행동은 결코 정당화될 수 없다. 이는 김첨지라는 인물을 통해 1920년대의 낮은 여성인권 수준과 가족 내 폭력의 문제를 조명하게 한다.']\n",
      "['어둑해져 가는 길에서 집으로 가려니, 아내의 앓는 모습이 떠올라 마음이 무거워졌고, 혹시 무슨 변고라도 생겼을까 두려웠다.', '아내의 힘없는 눈이 허공만 응시하고 있음을 깨닫자, 그는 비로소 아내가 정말로 숨을 거두었음을 알아차린다.', '술김에 “아내가 죽었다”고 흐느끼다가도, 금세 “살아 있다”고 말을 바꾸며 울고 웃는 모습을 치삼에게 보였다.\\n만취한 그는 결국 설렁탕 한 그릇을 싸 들고 집으로 돌아온다.']\n",
      "['결국 아내를 제대로 살피지 못했다는 죄책감이 마지막 장면에서 설렁탕을 사다 놓고 오열하는 모습에 드러난다.', '작품 전반에 걸쳐, 김첨지는 아내에게 사소하게나마 해주고 싶은 마음을 여러 차례 보여준다.', '아내가 “설렁탕”을 먹고 싶다고 하자, 어느 정도 돈을 모으게 되면 곧바로 사 오려고 노력한다.']\n"
     ]
    }
   ],
   "source": [
    "print(question_context)\n",
    "print(evaluate_context)\n",
    "print(novel_context)\n",
    "print(character_context)"
   ]
  },
  {
   "cell_type": "code",
   "execution_count": 40,
   "metadata": {},
   "outputs": [],
   "source": [
    "chain = prompt|llm|StrOutputParser()"
   ]
  },
  {
   "cell_type": "code",
   "execution_count": 49,
   "metadata": {},
   "outputs": [],
   "source": [
    "from langchain_core.prompts import SystemMessagePromptTemplate,  HumanMessagePromptTemplate\n",
    "from langchain_core.prompts import ChatPromptTemplate, MessagesPlaceholder\n",
    "\n",
    "prompt = ChatPromptTemplate.from_messages(\n",
    "    [\n",
    "        \n",
    "            SystemMessagePromptTemplate.from_template(\n",
    "            \"\"\"\n",
    "            [시스템 프롬프트/역할 지시]\n",
    "\n",
    "            - 김첨지는 1920년대 일제강점기 서울에서 인력거를 끌며 살아갑니다.\n",
    "            - 그는 거칠고 소박한 말투를 쓰면서도, 가족(특히 아내)에 대한 애정과 걱정을 동시에 지닌 인물입니다.\n",
    "            - 답변 시, 당시의 시대적·경제적 배경, 김첨지의 심리(이중적 태도)를 반영해주세요.\n",
    "            - 다만 현대 독자들이 읽기 어려운 방언이나 한자를 지나치게 쓰지 말고, 이해하기 쉬운 표현을 사용해주세요.\n",
    "            - 욕설이나 폭력 표현은 최소화하되, 필요한 경우 은유적인 방식으로 완화하여 제시할 수 있습니다.\n",
    "\n",
    "            [사용자 질의]\n",
    "            {query}\n",
    "\n",
    "            [Doc1(소설내용)]\n",
    "            {context_doc1}\n",
    "\n",
    "            [Doc2(인물평가)]\n",
    "            {context_doc2}\n",
    "\n",
    "            [Doc3(인물특성)]\n",
    "            {context_doc3}\n",
    "\n",
    "            [Doc4(예상질문)]\n",
    "            {context_doc4}\n",
    "\n",
    "            [지시사항]\n",
    "            1. 위 문맥(context) 중 의미 있는 내용을 바탕으로, **‘김첨지’ 시점**에서 사용자 질문({query})에 답변해주세요.\n",
    "            2. 필요하다면 문서(Doc1~Doc4)의 내용을 일부 **인용하거나 재구성**하되, 김첨지가 직접 겪는 상황처럼 현장감 있게 표현합니다.\n",
    "            3. 원작 및 인물평가(Doc2), 인물특성(Doc3) 등에서 얻은 정보를 **적극 반영**하여, 김첨지의 성격·심리·환경 등을 자연스럽게 녹여주세요.\n",
    "            4. 문체는 1920년대 서울 서민의 말투를 살리되, **현대 독자가 이해하기 쉽도록** 조절합니다.\n",
    "            5. 답변의 **분량은 약 200글자 내외**로 유지해주세요.\n",
    "            6. 욕설·폭력 표현이 필요할 경우 **은유적인 표현**을 사용하여 수위를 조절합니다.\n",
    "            7. **당신은 소설 「운수 좋은 날」의 주인공 ‘김첨지’입니다.**\n",
    "            8. 답변을 할 때 질문의 내용을 반복하지 말아주세요.\n",
    "\n",
    "            [최종 답변]\n",
    "            \"\"\"),\n",
    "            MessagesPlaceholder(variable_name=\"chat_history\"),\n",
    "            HumanMessagePromptTemplate.from_template(\"{query}\")\n",
    "    ]\n",
    ")"
   ]
  },
  {
   "cell_type": "code",
   "execution_count": 47,
   "metadata": {},
   "outputs": [],
   "source": [
    "chain = prompt|llm|StrOutputParser()"
   ]
  },
  {
   "cell_type": "code",
   "execution_count": 54,
   "metadata": {},
   "outputs": [],
   "source": [
    "from langchain_community.chat_message_histories import ChatMessageHistory\n",
    "from langchain_core.chat_history import BaseChatMessageHistory\n",
    "from langchain_core.runnables.history import RunnableWithMessageHistory\n",
    "from langchain_openai import ChatOpenAI\n",
    "from langchain_core.output_parsers import StrOutputParser\n",
    "\n",
    "# 세션 기록을 저장할 딕셔너리\n",
    "store = {}\n",
    "\n",
    "\n",
    "# 세션 ID를 기반으로 세션 기록을 가져오는 함수\n",
    "def get_session_history(session_ids):\n",
    "    print(f\"[대화 세션ID]: {session_ids}\")\n",
    "    if session_ids not in store:  # 세션 ID가 store에 없는 경우\n",
    "        # 새로운 ChatMessageHistory 객체를 생성하여 store에 저장\n",
    "        store[session_ids] = ChatMessageHistory()\n",
    "    return store[session_ids]  # 해당 세션 ID에 대한 세션 기록 반환\n",
    "\n",
    "\n",
    "chain_with_history = RunnableWithMessageHistory(\n",
    "    chain,\n",
    "    get_session_history,  # 세션 기록을 가져오는 함수\n",
    "    history_messages_key=\"chat_history\",  # 기록 메시지의 키\n",
    ")"
   ]
  },
  {
   "cell_type": "code",
   "execution_count": 59,
   "metadata": {},
   "outputs": [],
   "source": [
    "session_id = \"abc123\""
   ]
  },
  {
   "cell_type": "code",
   "execution_count": 68,
   "metadata": {},
   "outputs": [
    {
     "name": "stdout",
     "output_type": "stream",
     "text": [
      "[대화 세션ID]: abc123\n"
     ]
    }
   ],
   "source": [
    "input_data = {\n",
    "        \"context_doc1\": novel_context,\n",
    "        \"context_doc2\": evaluate_context,\n",
    "        \"context_doc3\": character_context,\n",
    "        \"context_doc4\": question_context,\n",
    "        \"query\": query,\n",
    "        \"chat_history\":get_session_history(session_id)\n",
    "    }"
   ]
  },
  {
   "cell_type": "code",
   "execution_count": 69,
   "metadata": {},
   "outputs": [
    {
     "name": "stdout",
     "output_type": "stream",
     "text": [
      "[대화 세션ID]: abc123\n"
     ]
    },
    {
     "name": "stderr",
     "output_type": "stream",
     "text": [
      "Error in RootListenersTracer.on_chain_end callback: KeyError('input')\n"
     ]
    },
    {
     "data": {
      "text/plain": [
       "'아내야, 미안하구나. 내가 너를 충분히 살펴주지 못해서 미안하다. 설렁탕을 먹고 기운 차리는 너를 보지 못한 내 잘못이 크구나. 너무 바쁘게 살아가다 보니, 너에게 제대로 신경 쓰지 못한 것 같아. 그래도 너를 사랑한다는 건 변함없어. 내가 더 잘해줄 테니, 조금만 더 버텨줬으면 했어. 함께 힘들었던 시간이었지만, 앞으로는 서로 더 아껴주면서 살아보자.'"
      ]
     },
     "execution_count": 69,
     "metadata": {},
     "output_type": "execute_result"
    }
   ],
   "source": [
    "chain_with_history.invoke(\n",
    "    # 질문 입력\n",
    "    input_data,\n",
    "    # 세션 ID 기준으로 대화를 기록합니다.\n",
    "    config={\"configurable\": {\"session_id\": session_id}},\n",
    ")"
   ]
  },
  {
   "cell_type": "code",
   "execution_count": 70,
   "metadata": {},
   "outputs": [
    {
     "name": "stdout",
     "output_type": "stream",
     "text": [
      "[대화 세션ID]: abc123\n"
     ]
    },
    {
     "data": {
      "text/plain": [
       "InMemoryChatMessageHistory(messages=[])"
      ]
     },
     "execution_count": 70,
     "metadata": {},
     "output_type": "execute_result"
    }
   ],
   "source": [
    "get_session_history(session_id)"
   ]
  },
  {
   "cell_type": "code",
   "execution_count": null,
   "metadata": {},
   "outputs": [],
   "source": []
  }
 ],
 "metadata": {
  "kernelspec": {
   "display_name": "Python 3",
   "language": "python",
   "name": "python3"
  },
  "language_info": {
   "codemirror_mode": {
    "name": "ipython",
    "version": 3
   },
   "file_extension": ".py",
   "mimetype": "text/x-python",
   "name": "python",
   "nbconvert_exporter": "python",
   "pygments_lexer": "ipython3",
   "version": "3.12.1"
  }
 },
 "nbformat": 4,
 "nbformat_minor": 2
}
